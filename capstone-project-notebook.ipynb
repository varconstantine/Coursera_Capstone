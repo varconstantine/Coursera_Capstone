{
 "cells": [
  {
   "cell_type": "markdown",
   "metadata": {
    "collapsed": true
   },
   "source": [
    "<a href=\"https://www.coursera.org/professional-certificates/ibm-data-science\"><img src=\"https://upload.wikimedia.org/wikipedia/commons/5/51/IBM_logo.svg\" width=\"400\" align=\"center\"></a>\n",
    "\n",
    "<h1 align=\"center\"><font size=\"5\">IBM Data Science Professional Certificate</font></h1>\n",
    "<h1 align=\"center\"><font size=\"3\">Capstone Project Notebook</font></h1>\n"
   ]
  },
  {
   "cell_type": "markdown",
   "metadata": {},
   "source": [
    "This capstone project is meant to give a basic representation of the processes that data scientists go through when working with data in order to derive valuable insights. \n",
    "\n",
    "It involves working with location data and different location data providers, such as Foursquare. RESTful API calls to the Foursquare API are used to retrieve data about venues in different neighborhoods around the world. Situations where data is not readily available are handled by scraping web data and parsing HTML code. Python and its pandas library are used for data exploration and analysis purposes. Finally, the Folium library is used for the visualization of geospatial data and for a more representative communication of the results and findings that are the final output of this notebook.\n",
    "\n",
    "Lets first load required libraries:"
   ]
  },
  {
   "cell_type": "code",
   "execution_count": 1,
   "metadata": {},
   "outputs": [],
   "source": [
    "import pandas as pd\n",
    "import numpy as np"
   ]
  },
  {
   "cell_type": "code",
   "execution_count": 2,
   "metadata": {},
   "outputs": [
    {
     "name": "stdout",
     "output_type": "stream",
     "text": [
      "Hello Capstone Project Course!\n"
     ]
    }
   ],
   "source": [
    "# Print the required output for the first Peer-graded assignment\n",
    "print('Hello Capstone Project Course!')"
   ]
  }
 ],
 "metadata": {
  "kernelspec": {
   "display_name": "Python 3.7",
   "language": "python",
   "name": "python3"
  },
  "language_info": {
   "codemirror_mode": {
    "name": "ipython",
    "version": 3
   },
   "file_extension": ".py",
   "mimetype": "text/x-python",
   "name": "python",
   "nbconvert_exporter": "python",
   "pygments_lexer": "ipython3",
   "version": "3.7.9"
  }
 },
 "nbformat": 4,
 "nbformat_minor": 1
}
